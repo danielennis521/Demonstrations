{
 "cells": [
  {
   "cell_type": "code",
   "execution_count": 25,
   "metadata": {},
   "outputs": [],
   "source": [
    "import numpy as np\n",
    "import pandas as pd\n",
    "\n",
    "pd.set_option(\"display.precision\", 16)\n",
    "\n",
    "def midpoint_method(f, a, b, tol):  # a and b need to have opposite sign\n",
    "    cur = a\n",
    "    iterations = 0\n",
    "\n",
    "    while np.abs(b-a) > tol:\n",
    "        cur = a + (b-a)/2.0\n",
    "        if np.sign(f(a)) == np.sign(f(cur)):\n",
    "            a = cur\n",
    "        else:\n",
    "            b = cur\n",
    "        iterations += 1\n",
    "    \n",
    "    return a + (b-a)/2.0, iterations, a, b\n"
   ]
  },
  {
   "attachments": {},
   "cell_type": "markdown",
   "metadata": {},
   "source": [
    "This midpoint method has a linear convergence rate which means we normally expect the number of iterations to grow linearly as we increase the error tolerence"
   ]
  },
  {
   "cell_type": "code",
   "execution_count": 22,
   "metadata": {},
   "outputs": [
    {
     "name": "stdout",
     "output_type": "stream",
     "text": [
      "             root           error  iterations\n",
      "0  3.156250000000  0.014657346410           5\n",
      "1  3.144531250000  0.002938596410           8\n",
      "2  3.141113281250  0.000479372340          11\n",
      "3  3.141571044922  0.000021608668          15\n",
      "4  3.141590118408  0.000002535182          18\n",
      "5  3.141592502594  0.000000150996          21\n",
      "6  3.141592651606  0.000000001984          25\n",
      "7  3.141592655331  0.000000001741          28\n"
     ]
    }
   ],
   "source": [
    "results = {'root':[], 'error':[], 'iterations':[]}\n",
    "for i in range(1,9):\n",
    "    root, iterations, left, right = midpoint_method(np.sin, 2, 4, 10**(-i))\n",
    "    results['root'].append(root)\n",
    "    results['error'].append(np.abs(np.pi - root))\n",
    "    results['iterations'].append(iterations)\n",
    "\n",
    "df = pd.DataFrame(results)\n",
    "print(df)"
   ]
  },
  {
   "attachments": {},
   "cell_type": "markdown",
   "metadata": {},
   "source": [
    "As expexted we see a linear trend in the data with each decimal place taking 3 iterations on average to determine. Now we can try the Secant method where we'll take take the last two approximations, draw a line through them then take the root of that line (this is essentially an approximation to Newtons Method). We'll use one step of the midpoint method to determine our first points"
   ]
  },
  {
   "cell_type": "code",
   "execution_count": 23,
   "metadata": {},
   "outputs": [],
   "source": [
    "def secant_method(f, a, b, tol):\n",
    "    prev = b\n",
    "    cur = a + (b-a)/2\n",
    "    new = cur\n",
    "    iterations = 0\n",
    "\n",
    "    while np.abs(prev-cur) > tol:\n",
    "        new = cur - f(cur)*(cur-prev)/(f(cur)-f(prev))\n",
    "        prev = cur\n",
    "        cur = new\n",
    "        iterations += 1\n",
    "    \n",
    "    return cur - f(cur)*(cur-prev)/(f(cur)-f(prev)), iterations"
   ]
  },
  {
   "attachments": {},
   "cell_type": "markdown",
   "metadata": {},
   "source": [
    "The convergance rate for this method is an exponent of (1 + sqrt(5))/2 (the golden ratio!). so we should see the number of iterations needed incease slower than linear but faster than a square root (NB quadratic convergence would mean accuracy increasing quadratically hence steps need increasing as a square root)"
   ]
  },
  {
   "cell_type": "code",
   "execution_count": 24,
   "metadata": {},
   "outputs": [
    {
     "name": "stdout",
     "output_type": "stream",
     "text": [
      "             root           error  iterations\n",
      "0  3.141592655459  0.000000001869           2\n",
      "1  3.141592653590  0.000000000000           3\n",
      "2  3.141592653590  0.000000000000           3\n",
      "3  3.141592653590  0.000000000000           3\n",
      "4  3.141592653590  0.000000000000           4\n",
      "5  3.141592653590  0.000000000000           4\n",
      "6  3.141592653590  0.000000000000           4\n",
      "7  3.141592653590  0.000000000000           4\n"
     ]
    }
   ],
   "source": [
    "\n",
    "results = {'root':[], 'error':[], 'iterations':[]}\n",
    "for i in range(1,9):\n",
    "    root, iterations = secant_method(np.sin, 2, 4, 10**(-i))\n",
    "    results['root'].append(root)\n",
    "    results['error'].append(np.abs(np.pi - root))\n",
    "    results['iterations'].append(iterations)\n",
    "\n",
    "df = pd.DataFrame(results)\n",
    "print(df)"
   ]
  },
  {
   "attachments": {},
   "cell_type": "markdown",
   "metadata": {},
   "source": [
    "As expected we get MUCH better convergence with this method. At any higher accuracy the code will currently return an error since underflow causes the term (f(cur)-f(prev)) to evaluate to zero. We could address this by building in a set limit to the precision of the method or by adding a condition to stop when we encounter this scenario"
   ]
  },
  {
   "cell_type": "code",
   "execution_count": null,
   "metadata": {},
   "outputs": [],
   "source": [
    "def secant_method(f, a, b, tol):\n",
    "    prev = b\n",
    "    cur = a + (b-a)/2\n",
    "    new = cur\n",
    "    iterations = 0\n",
    "\n",
    "    while np.abs(prev-cur) > tol and f(cur)-f(prev) != 0.0:     # extra stopping condition added\n",
    "        new = cur - f(cur)*(cur-prev)/(f(cur)-f(prev))\n",
    "        prev = cur\n",
    "        cur = new\n",
    "        iterations += 1\n",
    "    \n",
    "    return cur - f(cur)*(cur-prev)/(f(cur)-f(prev)), iterations"
   ]
  },
  {
   "attachments": {},
   "cell_type": "markdown",
   "metadata": {},
   "source": [
    "Newtons method is defined as:\n",
    "\n",
    "new = previous - f(previous)/f'(previous)\n",
    "\n",
    "Note that we need to know the derivative to compute this method, if we dont know it and need to approximate it then we just get back the secant method. In the case that we know something about the form of the function we want to find the roots of we can leverage that to build a specialized implimentation of this meethod. As an example lets build a version of this method that will compute the root of a polynomial given some initial guess, we'll take the polynomial in the form of an array that specifies the coefficients of the polynomial in order ([1, 4, 1, 4] would be 1 + 4x + x^2 + 4x^3) "
   ]
  },
  {
   "cell_type": "code",
   "execution_count": 28,
   "metadata": {},
   "outputs": [
    {
     "name": "stdout",
     "output_type": "stream",
     "text": [
      "(15, 17)\n",
      "(45, 56)\n"
     ]
    }
   ],
   "source": [
    "def polynomial(coefficients, value):    # compute the polynomial and it's derivative at given value\n",
    "    result = 0\n",
    "    deriv = 0\n",
    "    for i in range(2, len(coefficients)):\n",
    "        if coefficients[i] == 0:\n",
    "            continue\n",
    "        else:\n",
    "            result += coefficients[i]*(value**i)\n",
    "            deriv += coefficients[i] * i * (value**(i-1))\n",
    "    result += coefficients[0] + coefficients[1]*value\n",
    "    deriv += coefficients[1]\n",
    "    return result, deriv\n",
    "\n",
    "def newton_method(coefficients, start, tol):\n",
    "    prev = start\n",
    "    cur = start - 1.0\n",
    "    iterations = 0\n",
    "    while np.abs(prev-cur) > tol:\n",
    "        f, fp = polynomial(coefficients, cur)\n",
    "        prev = cur\n",
    "        cur -= f/fp\n",
    "        iterations += 1\n",
    "    return cur, iterations\n",
    "\n",
    "print(polynomial([1, 1, 1, 1], 2))\n",
    "print(polynomial([1, 4, 1, 4], 2))"
   ]
  },
  {
   "attachments": {},
   "cell_type": "markdown",
   "metadata": {},
   "source": [
    "This method may be useful for instances when we have a series of points rather than a function itself, we can do interpolation which will generate an array of coefficients to fit our data and then this method grants us an efficient way to accurately compute the roots. "
   ]
  },
  {
   "cell_type": "code",
   "execution_count": 39,
   "metadata": {},
   "outputs": [
    {
     "data": {
      "image/png": "[encoded data removed]",
      "text/plain": [
       "<Figure size 640x480 with 1 Axes>"
      ]
     },
     "metadata": {},
     "output_type": "display_data"
    },
    {
     "name": "stdout",
     "output_type": "stream",
     "text": [
      "                 root  iterations\n",
      "0  0.2513991742478219           3\n",
      "1  0.2509325828052976           4\n",
      "2  0.2509325828052976           4\n",
      "3  0.2509324978020195           5\n",
      "4  0.2509324978020195           5\n",
      "5  0.2509324978020195           5\n",
      "6  0.2509324978020195           5\n",
      "7  0.2509324978020167           6\n"
     ]
    }
   ],
   "source": [
    "import matplotlib.pyplot as plt\n",
    "X = np.arange(0,5,0.1)\n",
    "z = np.zeros(len(X))\n",
    "f = [polynomial([1, -4, 1, -4, 1], x)[0] for x in X]\n",
    "plt.plot(X, f, X, z)\n",
    "plt.show()\n",
    "\n",
    "results = {'root':[], 'iterations':[]}\n",
    "for i in range(1,9):\n",
    "    root, iterations = newton_method([1, -4, 1, -4, 1], 2, 10**(-i))\n",
    "    results['root'].append(root)\n",
    "    results['iterations'].append(iterations)\n",
    "\n",
    "df = pd.DataFrame(results)\n",
    "print(df)"
   ]
  }
 ],
 "metadata": {
  "kernelspec": {
   "display_name": "Python 3",
   "language": "python",
   "name": "python3"
  },
  "language_info": {
   "codemirror_mode": {
    "name": "ipython",
    "version": 3
   },
   "file_extension": ".py",
   "mimetype": "text/x-python",
   "name": "python",
   "nbconvert_exporter": "python",
   "pygments_lexer": "ipython3",
   "version": "3.10.11"
  },
  "orig_nbformat": 4
 },
 "nbformat": 4,
 "nbformat_minor": 2
}
